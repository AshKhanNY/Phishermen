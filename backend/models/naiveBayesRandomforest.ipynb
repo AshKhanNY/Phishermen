{
  "cells": [
    {
      "cell_type": "code",
      "execution_count": 2,
      "metadata": {
        "colab": {
          "base_uri": "https://localhost:8080/"
        },
        "id": "xhmrVBEeeds8",
        "outputId": "31e66cc3-7645-446c-f32f-adab5ed9d8b2"
      },
      "outputs": [
        {
          "output_type": "stream",
          "name": "stderr",
          "text": [
            "[nltk_data] Downloading package wordnet to /root/nltk_data...\n",
            "[nltk_data] Downloading package omw-1.4 to /root/nltk_data...\n"
          ]
        }
      ],
      "source": [
        "import re\n",
        "import nltk\n",
        "import pandas as pd\n",
        "from sklearn.datasets import load_files\n",
        "import pickle\n",
        "from nltk.corpus import stopwords\n",
        "from nltk.stem import WordNetLemmatizer\n",
        "import urllib.request as ur\n",
        "nltk.download('wordnet')\n",
        "nltk.download('omw-1.4')\n",
        "import requests\n",
        "from bs4 import BeautifulSoup\n",
        "from sklearn.ensemble import RandomForestClassifier\n",
        "import matplotlib.pyplot as plt\n"
      ]
    },
    {
      "cell_type": "code",
      "execution_count": 3,
      "metadata": {
        "id": "oQy-4Rt3kyGh"
      },
      "outputs": [],
      "source": [
        "def removeDigits(List):\n",
        "    \n",
        "    answer = []\n",
        "    for s in List:\n",
        "      res=\"\"\n",
        "      for char in s :\n",
        "        if not char.isdigit() and char!=' ':\n",
        "              res+=char\n",
        "      if len(res)>=2:\n",
        "        answer.append(res)\n",
        "    return ' '.join(answer)"
      ]
    },
    {
      "cell_type": "code",
      "execution_count": 4,
      "metadata": {
        "id": "qO1N1qJVldcP"
      },
      "outputs": [],
      "source": [
        "#Fetch the contents from website and rmove all the unessary character,punctuations\n",
        "def fetch_content(url):\n",
        "      \n",
        "      if \"http://\" and \"https://\" not in url:\n",
        "        url=\"http://\"+url\n",
        "      X=[]\n",
        "\n",
        "      try:\n",
        "        page = requests.get(url)\n",
        "        \n",
        "        soup = BeautifulSoup(page.text, 'html.parser')\n",
        "\n",
        "        # kill all script and style elements\n",
        "        for script in soup([\"script\", \"style\"]):\n",
        "            script.extract()    # rip it out\n",
        "        # get text\n",
        "        text = soup.get_text()\n",
        "        text=re.sub('[^A-Za-z0-9]+', ' ', text).strip()\n",
        "        text=str(text).replace('\\n',' ').split(' ')   \n",
        "      \n",
        "        for i in text:\n",
        "          if i:\n",
        "            X.append(i)\n",
        "      except:\n",
        "        X=[]\n",
        "      \n",
        "      documents = []\n",
        "      stemmer = WordNetLemmatizer()\n",
        "     \n",
        "      if X:\n",
        "        #Remove the digits from string:\n",
        "        document = removeDigits(X)\n",
        "      \n",
        "        # Remove all the special characters\n",
        "        document = re.sub(r'\\W', ' ', document)\n",
        "          \n",
        "        # remove all single characters\n",
        "        document = re.sub(r'\\s+[a-zA-Z]\\s+', ' ', document)\n",
        "          \n",
        "        # Remove single characters from the start\n",
        "        document = re.sub(r'\\^[a-zA-Z]\\s+', ' ', document) \n",
        "          \n",
        "        # Substituting multiple spaces with single space\n",
        "        document = re.sub(r'\\s+', ' ', document, flags=re.I)\n",
        "          \n",
        "        # Removing prefixed 'b'\n",
        "        document = re.sub(r'^b\\s+', '', document)\n",
        "          \n",
        "        # Converting to Lowercase\n",
        "        document = document.lower()\n",
        "          \n",
        "        # Lemmatization\n",
        "        document = document.split()\n",
        "\n",
        "        document = [stemmer.lemmatize(word) for word in document]\n",
        "        document = ' '.join(document)\n",
        "\n",
        "        return document"
      ]
    },
    {
      "cell_type": "code",
      "execution_count": null,
      "metadata": {
        "id": "NF_vn7tdnYQZ"
      },
      "outputs": [],
      "source": [
        "contents=[]\n",
        "Label=[]\n",
        "counter=0\n",
        "ValidLink=[]\n",
        "ValidLabel=[]\n",
        "\n",
        "import pickle\n",
        "\n",
        "# define dictionary\n",
        "\n",
        "\n",
        "\n",
        "counter=0\n",
        "print(len(labels))\n",
        "for label,Urls in zip(labels,documents):\n",
        "    content=fetch_content(Urls)\n",
        "  \n",
        "    counter+=1\n",
        "   \n",
        "    print(counter)\n",
        "    if content:\n",
        "      ValidLink.append(Urls)\n",
        "      ValidLabel.append(label)\n",
        "      contents.append(content)\n",
        "      \n",
        "      # create a binary pickle file \n",
        "      with open(\"FinalLabel\", \"wb\") as fp:\n",
        "        pickle.dump(ValidLabel,fp)\n",
        "      with open(\"FinalLink\", \"wb\") as fp:\n",
        "        pickle.dump(ValidLink,fp)\n",
        "      with open(\"Fianlcontents\", \"wb\") as fp:\n",
        "        pickle.dump(contents,fp)\n",
        "      \n",
        "      \n",
        "\n"
      ]
    },
    {
      "cell_type": "code",
      "source": [
        "import pickle\n",
        "\n",
        "\n",
        "#Label = pickle.loads(f)\n",
        "\n",
        "\n",
        "with open(\"Fianlcontents\", \"rb\") as fp:   # Unpickling\n",
        "\n",
        "  contents = pickle.load(fp)\n",
        "\n",
        "with open(\"FinalLabel\", \"rb\") as fp:   # Unpickling\n",
        "\n",
        "  Label = pickle.load(fp)\n",
        "\n",
        "\n",
        "\n"
      ],
      "metadata": {
        "id": "UQCVd0crKNk5"
      },
      "execution_count": 6,
      "outputs": []
    },
    {
      "cell_type": "code",
      "execution_count": 9,
      "metadata": {
        "id": "G3bAVN2WEjIr",
        "colab": {
          "base_uri": "https://localhost:8080/"
        },
        "outputId": "33df6412-fa97-44b3-b969-a457e945a170"
      },
      "outputs": [
        {
          "output_type": "stream",
          "name": "stderr",
          "text": [
            "[nltk_data] Downloading package stopwords to /root/nltk_data...\n",
            "[nltk_data]   Unzipping corpora/stopwords.zip.\n"
          ]
        },
        {
          "output_type": "stream",
          "name": "stdout",
          "text": [
            "[0. 0. 0. ... 0. 0. 0.]\n"
          ]
        }
      ],
      "source": [
        "\n",
        "\n",
        "  \n",
        "#contents=[]\n",
        "#Label=[]\n",
        "#counter=0\n",
        "\n",
        " \n",
        "\n",
        "\n",
        "\n",
        "# dictionary of lists  \n",
        "dict = {'text': contents,'labels':Label}  \n",
        "df = pd.DataFrame(dict)\n",
        "\n",
        "df.to_csv('textdata.csv') \n",
        "\n",
        "nltk.download('stopwords')\n",
        "from sklearn.feature_extraction.text import TfidfVectorizer\n",
        "tfidfconverter = TfidfVectorizer(max_features=1500, min_df=1, max_df=1.0, stop_words=stopwords.words('english'))\n",
        "X = tfidfconverter.fit_transform(contents).toarray()\n",
        "\n",
        "\n",
        "print(X[0])\n"
      ]
    },
    {
      "cell_type": "code",
      "execution_count": null,
      "metadata": {
        "id": "ru18Rcod6K0B"
      },
      "outputs": [],
      "source": [
        "def calculate_metrics(predicted, actual):\n",
        "    TP, FP, TN, FN = 0, 0, 0, 0\n",
        "    for i in range(len(predicted)):\n",
        "        if   (predicted[i] == 0) & (actual[i] == 0):\n",
        "            TP += 1\n",
        "        elif (predicted[i] == 0) & (actual[i] == 1):\n",
        "            FP += 1\n",
        "        elif (predicted[i] == 1) & (actual[i] == 1):\n",
        "            TN += 1\n",
        "        else:\n",
        "            FN += 1\n",
        "\n",
        "    accuracy  = (TP + TN) / (TP + FP + TN + FN) \n",
        "    precision = (TP) / (TP + FP) \n",
        "    recall    = (TP) / (TP + FN) \n",
        "    f1_score  = (2 * precision * recall) / (precision + recall)\n",
        "    \n",
        "    return  precision, recall"
      ]
    },
    {
      "cell_type": "code",
      "execution_count": null,
      "metadata": {
        "id": "Aij60aJUjfrj",
        "colab": {
          "base_uri": "https://localhost:8080/"
        },
        "outputId": "8eb9c476-be31-4230-b001-5de40caddb6d"
      },
      "outputs": [
        {
          "output_type": "stream",
          "name": "stdout",
          "text": [
            "[[792  60]\n",
            " [ 61 353]]\n",
            "              precision    recall  f1-score   support\n",
            "\n",
            "           0       0.93      0.93      0.93       852\n",
            "           1       0.85      0.85      0.85       414\n",
            "\n",
            "    accuracy                           0.90      1266\n",
            "   macro avg       0.89      0.89      0.89      1266\n",
            "weighted avg       0.90      0.90      0.90      1266\n",
            "\n",
            "0.9044233807266983\n"
          ]
        }
      ],
      "source": [
        "from sklearn.model_selection import train_test_split\n",
        "x_train,x_test,y_train,y_test=train_test_split(X,Label,test_size=0.35,shuffle=True)\n",
        "classifier = RandomForestClassifier(n_estimators=1000, random_state=0)\n",
        "classifier.fit(x_train, y_train) \n",
        "y_pred = classifier.predict(x_test)\n",
        "\n",
        "from sklearn import metrics\n",
        "from sklearn.metrics import precision_recall_curve,recall_score,precision_score\n",
        "from sklearn.metrics import classification_report, confusion_matrix, accuracy_score\n",
        "print(confusion_matrix(y_test,y_pred))\n",
        "print(classification_report(y_test,y_pred))\n",
        "print(accuracy_score(y_test, y_pred))"
      ]
    },
    {
      "cell_type": "code",
      "execution_count": null,
      "metadata": {
        "id": "5MuJAN9vkv_u",
        "colab": {
          "base_uri": "https://localhost:8080/"
        },
        "outputId": "f981380a-4ff3-43b3-eab5-d1fe3746f499"
      },
      "outputs": [
        {
          "output_type": "stream",
          "name": "stdout",
          "text": [
            "[[801  51]\n",
            " [109 305]]\n",
            "              precision    recall  f1-score   support\n",
            "\n",
            "           0       0.88      0.94      0.91       852\n",
            "           1       0.86      0.74      0.79       414\n",
            "\n",
            "    accuracy                           0.87      1266\n",
            "   macro avg       0.87      0.84      0.85      1266\n",
            "weighted avg       0.87      0.87      0.87      1266\n",
            "\n",
            "0.8736176935229067\n"
          ]
        }
      ],
      "source": [
        "from sklearn.naive_bayes import MultinomialNB\n",
        "naive_bayes = MultinomialNB()\n",
        "naive_bayes.fit(x_train, y_train)\n",
        "\n",
        "y_pred = naive_bayes.predict(x_test)\n",
        "\n",
        "\n",
        "from sklearn.metrics import classification_report, confusion_matrix, accuracy_score\n",
        "\n",
        "print(confusion_matrix(y_test,y_pred))\n",
        "print(classification_report(y_test,y_pred))\n",
        "print(accuracy_score(y_test, y_pred))"
      ]
    }
  ],
  "metadata": {
    "colab": {
      "provenance": [],
      "machine_shape": "hm"
    },
    "kernelspec": {
      "display_name": "Python 3",
      "name": "python3"
    },
    "language_info": {
      "name": "python"
    },
    "accelerator": "GPU",
    "gpuClass": "premium"
  },
  "nbformat": 4,
  "nbformat_minor": 0
}